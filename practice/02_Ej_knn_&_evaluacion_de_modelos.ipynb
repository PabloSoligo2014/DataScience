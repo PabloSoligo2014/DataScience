{
  "nbformat": 4,
  "nbformat_minor": 0,
  "metadata": {
    "colab": {
      "provenance": []
    },
    "kernelspec": {
      "name": "python3",
      "display_name": "Python 3"
    },
    "language_info": {
      "name": "python"
    }
  },
  "cells": [
    {
      "cell_type": "code",
      "source": [
        "import pandas as pd\n",
        "import seaborn as sns\n",
        "import matplotlib.pyplot as plt\n",
        "\n",
        "from sklearn.preprocessing import StandardScaler\n",
        "from sklearn.model_selection import train_test_split\n",
        "from sklearn.neighbors import KNeighborsClassifier # vecinos más cercanos para clasificación\n",
        "from sklearn.metrics import accuracy_score # métrica de evaluación\n",
        "from sklearn.metrics import classification_report"
      ],
      "metadata": {
        "id": "P0xLtRswK9AV"
      },
      "execution_count": 23,
      "outputs": []
    },
    {
      "cell_type": "markdown",
      "source": [
        "# Análisis Exploratorio"
      ],
      "metadata": {
        "id": "MIrmam4QK985"
      }
    },
    {
      "cell_type": "code",
      "execution_count": null,
      "metadata": {
        "id": "5trwC-5EKCbk"
      },
      "outputs": [],
      "source": [
        "df_smokers = pd.read_csv('https://raw.githubusercontent.com/pokengineer/DataScience/main/datasets/smokers.csv')\n",
        "df_smokers.head(5)"
      ]
    },
    {
      "cell_type": "code",
      "source": [
        "# verificamos los tipos de datos\n",
        "df_smokers.dtypes"
      ],
      "metadata": {
        "id": "F2MaDIuQK5-k"
      },
      "execution_count": null,
      "outputs": []
    },
    {
      "cell_type": "code",
      "source": [
        "print(\"Tamaño del dataframe : {}\".format(df_smokers.shape))"
      ],
      "metadata": {
        "id": "5Z_MYIBPLJxL"
      },
      "execution_count": null,
      "outputs": []
    },
    {
      "cell_type": "code",
      "source": [
        "# Verificamos si hay valores nulos para imputar\n",
        "df_smokers.isnull().sum()"
      ],
      "metadata": {
        "id": "fOt2OYnyMu8z"
      },
      "execution_count": null,
      "outputs": []
    },
    {
      "cell_type": "code",
      "source": [
        "# Analisis de la distribución de la variable target \"smoking\"\n",
        "print( df_smokers.smoking.value_counts() )\n",
        "sns.countplot(x='smoking', data=df_smokers, hue='smoking', legend=False)"
      ],
      "metadata": {
        "id": "lOki9Ak_LgG7"
      },
      "execution_count": null,
      "outputs": []
    },
    {
      "cell_type": "code",
      "source": [
        "plt.figure(figsize=(4, 8))\n",
        "s=sns.boxplot(x=\"smoking\", y=\"weight(kg)\", data=df_smokers, hue=\"smoking\", legend=False)\n",
        "s.plot()"
      ],
      "metadata": {
        "id": "dCqO7jUkME58"
      },
      "execution_count": null,
      "outputs": []
    },
    {
      "cell_type": "markdown",
      "source": [
        "# Correlación de Variables"
      ],
      "metadata": {
        "id": "qcRRQADzNi6h"
      }
    },
    {
      "cell_type": "code",
      "source": [
        "plt.figure(figsize=(14,7))\n",
        "sns.heatmap(df_smokers.corr(), annot=True, vmax=.7, cmap ='Blues', fmt=\".2f\")"
      ],
      "metadata": {
        "id": "tqPyTOWONRNN"
      },
      "execution_count": null,
      "outputs": []
    },
    {
      "cell_type": "code",
      "source": [
        "df_smokers_corr = df_smokers.corr()[[\"smoking\"]]*100 # lo pasamos a porcentajes\n",
        "df_smokers_corr = df_smokers_corr.drop(\"smoking\", axis=0) # eliminamos la variable target\n",
        "df_smokers_corr = df_smokers_corr.sort_values([\"smoking\"], ascending=False) # ordenamos en forma descendente\n",
        "df_smokers_corr = abs(df_smokers_corr) # nos interesa el valor absouluto\n",
        "df_smokers_corr"
      ],
      "metadata": {
        "id": "8gH15EmiORMU"
      },
      "execution_count": null,
      "outputs": []
    },
    {
      "cell_type": "markdown",
      "source": [
        "# Seleccionamos y Escalamos las variables que vamos a utilizar"
      ],
      "metadata": {
        "id": "RmZa5mOdPpku"
      }
    },
    {
      "cell_type": "code",
      "source": [
        "# definimos df con las 10 columnas que elegimos para el modelo\n",
        "df = df_smokers[['hemoglobin', 'height(cm)', 'weight(kg)', 'triglyceride', 'Gtp',\n",
        "       'waist(cm)', 'serum creatinine', 'dental caries', 'relaxation',\n",
        "       'fasting blood sugar','smoking']]\n",
        "\n",
        "# usamos StandardScaler para escalar las variables\n",
        "scaler_X = StandardScaler(with_mean=True, with_std=True)\n",
        "scaler_X.fit(df.drop([\"smoking\"],axis = 1)) # entrenamos los valores quitandole la variable clase\n",
        "X_smokers = pd.DataFrame(scaler_X.transform(df.drop([\"smoking\"],axis = 1),),\n",
        "                          columns = ['hemoglobin', 'height(cm)', 'weight(kg)', 'triglyceride', 'Gtp',\n",
        "       'waist(cm)', 'serum creatinine', 'dental caries', 'relaxation','fasting blood sugar'])  # aplicamos la transformacion\n",
        "X_smokers.head()"
      ],
      "metadata": {
        "id": "23lNtoIIPo_D"
      },
      "execution_count": null,
      "outputs": []
    },
    {
      "cell_type": "code",
      "source": [
        "# Hacemos el Split 70-30 para train-test\n",
        "y_smokers = df[\"smoking\"]\n",
        "X_train, X_test, y_train, y_test = train_test_split(X_smokers, y_smokers, test_size=0.3, stratify = y_smokers, random_state=42)"
      ],
      "metadata": {
        "id": "drNcxQmpQhsE"
      },
      "execution_count": 16,
      "outputs": []
    },
    {
      "cell_type": "code",
      "source": [
        "test_scores = []\n",
        "\n",
        "# Creamos y entrenamos el algoritmo con 20 valores de K\n",
        "for k in range(2,40):\n",
        "  knn = KNeighborsClassifier(k)\n",
        "  knn.fit(X_train,y_train) # Creamos y entrenamos el clasificador knn\n",
        "\n",
        "  # Para cada valor de K, evaluamos la capacidad de clasificación con datos de prueba\n",
        "  y_pred = knn.predict(X_test)\n",
        "  test_scores.append(accuracy_score(y_test, y_pred)) # Agregamos los K resultados de evaluación"
      ],
      "metadata": {
        "id": "I9NWyS9SQtty"
      },
      "execution_count": 17,
      "outputs": []
    },
    {
      "cell_type": "code",
      "source": [
        "df_scores = pd.DataFrame([{\"k\":valor_k, \"score\":test_scores_k} for valor_k, test_scores_k in enumerate(test_scores, 1)])\n",
        "df_scores.head(5)\n",
        "plt.plot(df_scores[\"k\"], df_scores[\"score\"])"
      ],
      "metadata": {
        "id": "JcJaAYMJRW5s"
      },
      "execution_count": null,
      "outputs": []
    },
    {
      "cell_type": "code",
      "source": [
        "# Entrenamos el algoritmo con el mejor K\n",
        "knn = KNeighborsClassifier( 11 )\n",
        "knn.fit(X_train,y_train) # Entrenamos el clasificador"
      ],
      "metadata": {
        "id": "rabLQmQrm-x_"
      },
      "execution_count": null,
      "outputs": []
    },
    {
      "cell_type": "code",
      "source": [
        "y_pred_knn = knn.predict(X_test)\n",
        "\n",
        "#Exactitud del modelo\n",
        "print('Exactitud (accuracy) del modelo: {:.2f} %'.format(accuracy_score(y_test, y_pred_knn)*100))\n",
        "print(\"-\"*100)\n",
        "\n",
        "# Reporte del clasificador\n",
        "from sklearn.metrics import classification_report\n",
        "print(classification_report(y_test,y_pred_knn))"
      ],
      "metadata": {
        "id": "bblZ7wXonSJ7"
      },
      "execution_count": null,
      "outputs": []
    },
    {
      "cell_type": "markdown",
      "source": [
        "# Ejercicio\n",
        "Dado el análisis exploratorio concluimos que no hace falta imputar variables y que la variable target esta balanceada.\n",
        "\n",
        "- Entrenar un modelo con K menor a 11, comparar los resultados\n",
        "- Entrenar un modelo con K mayor a 11, comparar los resultados\n",
        "- Entrenar un modelo con 3 variables, seleccionar un K apropiado y comparar los resultados\n",
        "- Entrenar un modelo con todas las variables, seleccionar un K apropiado y comparar los resultados\n",
        "- \"Feature Engineering\", Crear 3 columnas nuevas no redundantes, entrenar un modelo y comparar los resultados"
      ],
      "metadata": {
        "id": "fVOQIHqXmAj8"
      }
    },
    {
      "cell_type": "code",
      "source": [],
      "metadata": {
        "id": "eOyI-c2Cl9u0"
      },
      "execution_count": null,
      "outputs": []
    }
  ]
}