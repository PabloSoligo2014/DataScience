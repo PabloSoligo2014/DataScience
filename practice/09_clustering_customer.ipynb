{
  "cells": [
    {
      "cell_type": "code",
      "execution_count": null,
      "metadata": {
        "id": "P0xLtRswK9AV"
      },
      "outputs": [],
      "source": [
        "import pandas as pd\n",
        "import seaborn as sns\n",
        "import matplotlib.pyplot as plt\n",
        "\n",
        "from sklearn.preprocessing import StandardScaler\n",
        "\n",
        "import warnings\n",
        "warnings.filterwarnings('ignore')"
      ]
    },
    {
      "cell_type": "markdown",
      "metadata": {
        "id": "MIrmam4QK985"
      },
      "source": [
        "# Análisis Exploratorio"
      ]
    },
    {
      "cell_type": "code",
      "execution_count": null,
      "metadata": {
        "id": "5trwC-5EKCbk"
      },
      "outputs": [],
      "source": [
        "df = pd.read_csv('mall_customers.csv')\n",
        "df.head(5)"
      ]
    },
    {
      "cell_type": "code",
      "execution_count": null,
      "metadata": {
        "id": "fOt2OYnyMu8z"
      },
      "outputs": [],
      "source": [
        "# Verificamos si hay valores nulos para imputar\n",
        "df.isnull().sum()"
      ]
    },
    {
      "cell_type": "markdown",
      "source": [
        "# Escalamos las Variables"
      ],
      "metadata": {
        "id": "MecRQ1slFJVg"
      }
    },
    {
      "cell_type": "code",
      "source": [
        "scaler_X = StandardScaler(with_mean=True, with_std=True)\n",
        "scaler_X.fit(df.iloc[:,2:5])\n",
        "X = pd.DataFrame(scaler_X.transform(df.iloc[:,2:5],), columns = df.iloc[:,2:5].columns )"
      ],
      "metadata": {
        "id": "jKStgw_EFwJ4"
      },
      "execution_count": null,
      "outputs": []
    },
    {
      "cell_type": "markdown",
      "metadata": {
        "id": "qcRRQADzNi6h"
      },
      "source": [
        "# KMeans"
      ]
    },
    {
      "cell_type": "code",
      "execution_count": null,
      "metadata": {
        "id": "tqPyTOWONRNN"
      },
      "outputs": [],
      "source": [
        "from sklearn.cluster import KMeans\n",
        "wcss=[]\n",
        "for i in range(1,10):\n",
        "    kmeans=KMeans(n_clusters=i,init='k-means++',)\n",
        "    kmeans.fit(X)\n",
        "    wcss.append(kmeans.inertia_)\n",
        "\n",
        "plt.plot(range(1,10),wcss)\n",
        "plt.title('Elbow Method')\n",
        "plt.xlabel('No. of cluster')\n",
        "plt.ylabel('wcss: sum of dist. of sample to their closest cluster center' )"
      ]
    },
    {
      "cell_type": "code",
      "execution_count": null,
      "metadata": {
        "id": "8gH15EmiORMU"
      },
      "outputs": [],
      "source": [
        "kmeans_1=KMeans(n_clusters=6)\n",
        "kmeans_1.fit(X)\n",
        "cluster_pred=kmeans_1.predict(X)"
      ]
    },
    {
      "cell_type": "code",
      "source": [
        "X.plot(x='Spending Score (1-100)', y='Annual Income (k$)',kind='scatter',c=cluster_pred,colormap='viridis')"
      ],
      "metadata": {
        "id": "XOC6Mv-HQbLa"
      },
      "execution_count": null,
      "outputs": []
    },
    {
      "cell_type": "markdown",
      "source": [
        "# DBSCAN"
      ],
      "metadata": {
        "id": "um6Hd8-jSUNm"
      }
    },
    {
      "cell_type": "code",
      "source": [
        "from sklearn.cluster import DBSCAN\n",
        "dbscan_1 = DBSCAN(eps=0.5, min_samples=5)\n",
        "dbscan_1.fit(X)\n",
        "cluster_pred_2 = dbscan_1.labels_.astype(int)"
      ],
      "metadata": {
        "id": "Tt9cgyMfSWIY"
      },
      "execution_count": null,
      "outputs": []
    },
    {
      "cell_type": "code",
      "source": [
        "X.plot(x='Spending Score (1-100)', y='Annual Income (k$)',kind='scatter',c=cluster_pred_2,colormap='viridis')"
      ],
      "metadata": {
        "id": "cz3PxEJwTRH5"
      },
      "execution_count": null,
      "outputs": []
    },
    {
      "cell_type": "markdown",
      "source": [
        "# Clustering Jerarquico"
      ],
      "metadata": {
        "id": "gfrKkkcqPmH8"
      }
    },
    {
      "cell_type": "code",
      "source": [
        "import scipy\n",
        "from scipy.cluster import hierarchy\n",
        "linkage = hierarchy.linkage(X, method='average')\n",
        "cluster_pred_3 = hierarchy.fcluster(linkage, 10 , criterion='maxclust')\n",
        "dendro=hierarchy.dendrogram( linkage )"
      ],
      "metadata": {
        "id": "Q7mhk_2sPlux"
      },
      "execution_count": null,
      "outputs": []
    },
    {
      "cell_type": "code",
      "source": [
        "X.plot(x='Spending Score (1-100)', y='Annual Income (k$)',kind='scatter',c=cluster_pred_3,colormap='viridis')"
      ],
      "metadata": {
        "id": "cWwDGaH3YMir"
      },
      "execution_count": null,
      "outputs": []
    },
    {
      "cell_type": "markdown",
      "metadata": {
        "id": "fVOQIHqXmAj8"
      },
      "source": [
        "# Ejercicio\n",
        "Pensar las respuestas y despues probar en el código\n",
        "- según el método de elbow ¿que otro K podria haber sido bueno para kmeans?\n",
        "- ¿que pasa si reduzco min_samples en DBSCAN ?\n",
        "- ¿que pasa si uso otro metodo de asociacion para el linkage del clustering jerárquico?\n",
        "- ¿cómo hago los clusters del clustering jerarquico (fcluster) por distancia y no por numero maximo de clusters?"
      ]
    },
    {
      "cell_type": "markdown",
      "source": [
        "* https://scikit-learn.org/stable/modules/generated/sklearn.cluster.KMeans.html\n",
        "* https://scikit-learn.org/stable/modules/generated/sklearn.cluster.DBSCAN.html\n",
        "* https://docs.scipy.org/doc/scipy/reference/generated/scipy.cluster.hierarchy.fcluster.html#scipy.cluster.hierarchy.fcluster"
      ],
      "metadata": {
        "id": "d51KJ-7haRiv"
      }
    },
    {
      "cell_type": "code",
      "source": [],
      "metadata": {
        "id": "f5ZUPk7Mgp52"
      },
      "execution_count": null,
      "outputs": []
    }
  ],
  "metadata": {
    "colab": {
      "provenance": []
    },
    "kernelspec": {
      "display_name": "Python 3",
      "name": "python3"
    },
    "language_info": {
      "name": "python"
    }
  },
  "nbformat": 4,
  "nbformat_minor": 0
}