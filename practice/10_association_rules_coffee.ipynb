{
  "nbformat": 4,
  "nbformat_minor": 0,
  "metadata": {
    "colab": {
      "provenance": []
    },
    "kernelspec": {
      "name": "python3",
      "display_name": "Python 3"
    },
    "language_info": {
      "name": "python"
    }
  },
  "cells": [
    {
      "cell_type": "code",
      "source": [
        "import pandas as pd\n",
        "import seaborn as sns\n",
        "import copy\n",
        "import matplotlib\n",
        "import plotly.express as px\n",
        "from PIL import Image\n",
        "import matplotlib.pyplot as plt\n",
        "from pylab import rcParams\n",
        "# Reglas de Asociación\n",
        "from mlxtend.frequent_patterns import apriori\n",
        "from mlxtend.frequent_patterns import association_rules\n",
        "\n",
        "import warnings\n",
        "warnings.filterwarnings(\"ignore\", category=DeprecationWarning)"
      ],
      "metadata": {
        "id": "KONhYyU8qGxR"
      },
      "execution_count": null,
      "outputs": []
    },
    {
      "cell_type": "markdown",
      "source": [
        "# Análisis"
      ],
      "metadata": {
        "id": "GSF5MgXF1usx"
      }
    },
    {
      "cell_type": "code",
      "source": [
        "df_items = pd.read_csv(\"https://raw.githubusercontent.com/pokengineer/DataScience/main/datasets/coffee_items.csv\")\n",
        "df_orders = pd.read_csv(\"https://raw.githubusercontent.com/pokengineer/DataScience/main/datasets/coffee_orders.csv\")"
      ],
      "metadata": {
        "id": "WUaN_g7FpcAr"
      },
      "execution_count": null,
      "outputs": []
    },
    {
      "cell_type": "code",
      "source": [
        "df_items.head()"
      ],
      "metadata": {
        "id": "HQlTCu8Fpoz5"
      },
      "execution_count": null,
      "outputs": []
    },
    {
      "cell_type": "code",
      "source": [
        "df_orders.head()"
      ],
      "metadata": {
        "id": "aoVa2n2ppqBh"
      },
      "execution_count": null,
      "outputs": []
    },
    {
      "cell_type": "code",
      "source": [
        "print(df_orders.shape[0])"
      ],
      "metadata": {
        "id": "M7knoecsprop"
      },
      "execution_count": null,
      "outputs": []
    },
    {
      "cell_type": "code",
      "source": [
        "df_orders.order_id.duplicated().sum()"
      ],
      "metadata": {
        "id": "sPBOiiTn0483"
      },
      "execution_count": null,
      "outputs": []
    },
    {
      "cell_type": "code",
      "source": [
        "df_orders[df_orders['quantity']<=0]"
      ],
      "metadata": {
        "id": "5-xRVONHqlmC"
      },
      "execution_count": null,
      "outputs": []
    },
    {
      "cell_type": "markdown",
      "source": [
        "# columna de descripción"
      ],
      "metadata": {
        "id": "8FQdqcj618AO"
      }
    },
    {
      "cell_type": "code",
      "source": [
        "df_items['descripcion'] =df_items.apply(lambda x: str(x['item_name']) if x['item_size']!= x['item_size'] else  str(x['item_name']) + ' | ' + str(x['item_size']) , axis=1)"
      ],
      "metadata": {
        "id": "vmkLPmfs1_1W"
      },
      "execution_count": null,
      "outputs": []
    },
    {
      "cell_type": "code",
      "source": [
        "df_items.head(5)"
      ],
      "metadata": {
        "id": "RvqmmRm32rrY"
      },
      "execution_count": null,
      "outputs": []
    },
    {
      "cell_type": "code",
      "source": [
        "df_orders = pd.merge(df_orders,df_items[['item_id','descripcion']],on='item_id',how='left')"
      ],
      "metadata": {
        "id": "wIIw0kV029_X"
      },
      "execution_count": null,
      "outputs": []
    },
    {
      "cell_type": "markdown",
      "source": [
        "# reglas de asociación"
      ],
      "metadata": {
        "id": "FDWswLq52AQR"
      }
    },
    {
      "cell_type": "code",
      "source": [
        "# Quitamos los ítems DOTCOM POSTAGE y POSTAGE porque no son productos.\n",
        "# Llenamos con 0 los pedidos donde un producto no fué comprado\n",
        "df_group = (df_orders.groupby(['order_id', 'descripcion'])['quantity'].sum().unstack().reset_index().fillna(0).set_index('order_id'))\n",
        "# Seteamos True/False dependiendo de cada valor\n",
        "df_group = df_group.applymap(lambda x: True if x >0 else False)\n",
        "df_group"
      ],
      "metadata": {
        "id": "Hccw62ebqq0A"
      },
      "execution_count": null,
      "outputs": []
    },
    {
      "cell_type": "code",
      "source": [
        "x = 0.005\n",
        "frequent_itemsets = apriori(df_group, min_support=x, use_colnames=True)\n",
        "frequent_itemsets.sort_values(by=\"support\", ascending=False)"
      ],
      "metadata": {
        "id": "y7yCo5kfrG7x"
      },
      "execution_count": null,
      "outputs": []
    },
    {
      "cell_type": "code",
      "source": [
        "rules = association_rules(frequent_itemsets, metric=\"lift\", min_threshold=1)\n",
        "# Ordenamos por confianza de mayor a menor\n",
        "rules.sort_values(by=\"confidence\", ascending=False).head(5)"
      ],
      "metadata": {
        "id": "pIhuZUtarALq"
      },
      "execution_count": null,
      "outputs": []
    },
    {
      "cell_type": "markdown",
      "source": [
        "# Consigna\n",
        "- conceptualmente que representa la metrica 'support' y que representa la metrica 'confidence'\n",
        "- obtener las reglas de asociacion usando item_name en lugar de la descripcion\n",
        "- obtener las reglas de asociacion del siguiente dataset:<br>\n",
        "http://archive.ics.uci.edu/ml/machine-learning-databases/00352/Online%20Retail.xlsx\n",
        "\n",
        "pueden usar pd.read_excel() para archivos xls o xlsx\n"
      ],
      "metadata": {
        "id": "fgR2kjZQuaLl"
      }
    },
    {
      "cell_type": "code",
      "source": [],
      "metadata": {
        "id": "URZw4B4Rus3k"
      },
      "execution_count": null,
      "outputs": []
    }
  ]
}