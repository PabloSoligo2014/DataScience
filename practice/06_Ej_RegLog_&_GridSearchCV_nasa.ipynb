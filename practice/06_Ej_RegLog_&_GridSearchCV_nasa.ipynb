{
  "cells": [
    {
      "cell_type": "code",
      "execution_count": 1,
      "metadata": {
        "id": "P0xLtRswK9AV"
      },
      "outputs": [],
      "source": [
        "import pandas as pd\n",
        "import seaborn as sns\n",
        "import matplotlib.pyplot as plt\n",
        "\n",
        "from sklearn.preprocessing import StandardScaler\n",
        "from sklearn.model_selection import train_test_split\n",
        "from sklearn.metrics import accuracy_score # métrica de evaluación\n",
        "from sklearn.metrics import classification_report\n",
        "from sklearn import metrics"
      ]
    },
    {
      "cell_type": "code",
      "execution_count": null,
      "metadata": {
        "colab": {
          "base_uri": "https://localhost:8080/",
          "height": 253
        },
        "id": "5trwC-5EKCbk",
        "outputId": "04ad6290-ac97-4407-f381-64799bc6e065"
      },
      "outputs": [],
      "source": [
        "df_nasa = pd.read_csv('https://raw.githubusercontent.com/pokengineer/DataScience/main/datasets/asteroids_nasa.csv')\n",
        "df_nasa.head(5)"
      ]
    },
    {
      "cell_type": "markdown",
      "metadata": {
        "id": "RmZa5mOdPpku"
      },
      "source": [
        "Salteo el análisis ya que es un dataset que conocemos\n",
        "# Preprocesamiento de datos"
      ]
    },
    {
      "cell_type": "code",
      "execution_count": 3,
      "metadata": {
        "id": "_eirKez0KsCG"
      },
      "outputs": [],
      "source": [
        "# dropeo ['Orbiting Body','Equinox'] porque en todos los casos es earth y J2000\n",
        "df_nasa.drop(['Orbiting Body','Equinox'],axis=1, inplace=True)"
      ]
    },
    {
      "cell_type": "code",
      "execution_count": 4,
      "metadata": {
        "id": "LRslmp8KeiTO"
      },
      "outputs": [],
      "source": [
        "def preparacion_de_datos(df_input, target, escalar_valores=False):\n",
        "  flag_que_hay_que_borrar = False # esto no sirve de nada, hay que borrarlo\n",
        "  df = df_input.drop(['Close Approach Date','Orbit Determination Date'],axis=1)\n",
        "  if escalar_valores and flag_que_hay_que_borrar:\n",
        "    scaler_X = StandardScaler(with_mean=True, with_std=True)\n",
        "    scaler_X.fit(df.drop(target,axis=1))\n",
        "    x = pd.DataFrame(scaler_X.transform(df.drop(target,axis=1),), columns = df.drop(target,axis=1).columns )\n",
        "  else:\n",
        "    x = df.drop(target,axis=1)\n",
        "  y = df[target]\n",
        "  return x,y"
      ]
    },
    {
      "cell_type": "code",
      "execution_count": 5,
      "metadata": {
        "id": "y-3JuRcMegvG"
      },
      "outputs": [],
      "source": [
        "X_nasa, y_nasa = preparacion_de_datos( df_nasa, \"Hazardous\" ,escalar_valores=False)"
      ]
    },
    {
      "cell_type": "code",
      "execution_count": 6,
      "metadata": {
        "id": "drNcxQmpQhsE"
      },
      "outputs": [],
      "source": [
        "# Hacemos el Split 70-30 para train-test\n",
        "X_train, X_test, y_train, y_test = train_test_split(X_nasa, y_nasa,\n",
        "                                                    test_size=0.3, stratify = y_nasa, random_state=0)"
      ]
    },
    {
      "cell_type": "code",
      "execution_count": null,
      "metadata": {
        "colab": {
          "base_uri": "https://localhost:8080/",
          "height": 75
        },
        "id": "1vL8iYzvsgaB",
        "outputId": "6a18e15e-e319-4f35-a868-ef1d803aa59a"
      },
      "outputs": [],
      "source": [
        "from sklearn.linear_model import LogisticRegression\n",
        "\n",
        "# Creamos y entrenamos el modelo\n",
        "logreg = LogisticRegression()\n",
        "logreg.fit(X_train, y_train)"
      ]
    },
    {
      "cell_type": "code",
      "execution_count": null,
      "metadata": {
        "colab": {
          "base_uri": "https://localhost:8080/"
        },
        "id": "gkciBNHhsycS",
        "outputId": "c2988518-f4f6-4b3d-e4b7-1081afc888c2"
      },
      "outputs": [],
      "source": [
        "y_pred_lg = logreg.predict(X_test)\n",
        "\n",
        "#Exactitud del modelo\n",
        "print('Exactitud (accuracy) del modelo: {:.2f} %'.format(accuracy_score(y_test, y_pred_lg)*100))\n",
        "print(\"-\"*100)\n",
        "\n",
        "# Reporte del clasificador\n",
        "from sklearn.metrics import classification_report\n",
        "print(classification_report(y_test,y_pred_lg))"
      ]
    },
    {
      "cell_type": "markdown",
      "metadata": {
        "id": "im1OPXM9dvth"
      },
      "source": [
        "# Comparamos por curva ROC los modelos"
      ]
    },
    {
      "cell_type": "code",
      "execution_count": 9,
      "metadata": {
        "id": "-pfMpiQFekUB"
      },
      "outputs": [],
      "source": [
        "from sklearn.naive_bayes import MultinomialNB\n",
        "from sklearn.naive_bayes import GaussianNB\n",
        "from sklearn.tree import DecisionTreeClassifier\n",
        "from sklearn.neighbors import KNeighborsClassifier\n",
        "\n",
        "treeclf = DecisionTreeClassifier(max_depth=10, random_state=1)\n",
        "treeclf.fit(X_train, y_train)\n",
        "y_pred_tc = treeclf.predict(X_test)\n",
        "\n",
        "bayes_multi = MultinomialNB()\n",
        "bayes_multi.fit(X_train, y_train)\n",
        "y_pred_nb = bayes_multi.predict(X_test)\n",
        "\n",
        "bayes_gauss = GaussianNB()\n",
        "bayes_gauss.fit(X_train, y_train)\n",
        "y_pred_gauss = bayes_gauss.predict(X_test)\n",
        "\n",
        "knn = DecisionTreeClassifier(max_depth=10, random_state=1)\n",
        "knn.fit(X_train, y_train)\n",
        "y_pred_knn = knn.predict(X_test)"
      ]
    },
    {
      "cell_type": "code",
      "execution_count": null,
      "metadata": {
        "colab": {
          "base_uri": "https://localhost:8080/",
          "height": 882
        },
        "id": "4sLwZVvvdtOu",
        "outputId": "dcf5ace4-0127-4608-c774-a1bea95853cf"
      },
      "outputs": [],
      "source": [
        "def graficarCurvaRoc( y_pred, model ):\n",
        "  fpr, tpr, _ = metrics.roc_curve(y_test,  y_pred)\n",
        "  auc = metrics.roc_auc_score(y_test, y_pred)\n",
        "  # Graficamos\n",
        "  plt.plot(fpr,tpr,label= model +\" AUC=\"+str(round(auc,4))) #,label= \"AUC=\"+str(auc))\n",
        "  plt.legend(loc=4, fontsize=12)\n",
        "  return auc\n",
        "\n",
        "# Inicializamos los labels del gráfico\n",
        "plt.figure(figsize=(20, 10))\n",
        "plt.xlabel('% Not Hazardous', fontsize=14)\n",
        "plt.ylabel('% Hazardous', fontsize=14)\n",
        "\n",
        "# Graficamos la recta del azar\n",
        "it = [i/100 for i in range(100)]\n",
        "plt.plot(it,it,label=\"AZAR AUC=0.5\",color=\"black\")\n",
        "\n",
        "modelos = {'bayesMulti':y_pred_nb, 'bayesGauss':y_pred_gauss,\n",
        "             'arbol':y_pred_tc , 'reglog':y_pred_lg,'knn':y_pred_knn}\n",
        "for pred in modelos:\n",
        "    auc = graficarCurvaRoc( modelos[pred] , pred )\n",
        "\n",
        "# Agregamos el titulo y configuro el tamaño de letra\n",
        "plt.title(\"Curva ROC\", fontsize=14)\n",
        "plt.tick_params(labelsize=12);\n",
        "plt.show()"
      ]
    },
    {
      "cell_type": "markdown",
      "metadata": {
        "id": "6rGxzQrwf9Qd"
      },
      "source": [
        "# Mejoramos el modelo elegido con GridSearch"
      ]
    },
    {
      "cell_type": "code",
      "execution_count": null,
      "metadata": {
        "id": "nLDPcZqZgtcP"
      },
      "outputs": [],
      "source": [
        "from sklearn.model_selection import GridSearchCV\n",
        "\n",
        "parameters = { ____ }\n",
        "clf = GridSearchCV( _____ , parameters)\n",
        "clf.fit(X_train, y_train)"
      ]
    },
    {
      "cell_type": "markdown",
      "metadata": {
        "id": "fVOQIHqXmAj8"
      },
      "source": [
        "# Ejercicio\n",
        "- Finalizar la funcion de preprocesamiento de datos para escalar los parametros. probar RegLog con el dataset escalado.\n",
        "- graficar la curva roc para los resultados que obtenemos escalando los valores (en las variables que corresponda)\n",
        "- Completar la sección del código dedicada a GridSearchCV, comparar el mejor modelo con los otros modelos."
      ]
    },
    {
      "cell_type": "code",
      "execution_count": null,
      "metadata": {
        "id": "f5ZUPk7Mgp52"
      },
      "outputs": [],
      "source": []
    }
  ],
  "metadata": {
    "colab": {
      "provenance": []
    },
    "kernelspec": {
      "display_name": "Python 3",
      "name": "python3"
    },
    "language_info": {
      "name": "python"
    }
  },
  "nbformat": 4,
  "nbformat_minor": 0
}
