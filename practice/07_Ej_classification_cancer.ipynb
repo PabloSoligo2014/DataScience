{
  "cells": [
    {
      "cell_type": "markdown",
      "metadata": {},
      "source": [
        "# Imports"
      ]
    },
    {
      "cell_type": "code",
      "execution_count": null,
      "metadata": {
        "id": "P0xLtRswK9AV"
      },
      "outputs": [],
      "source": [
        "import pandas as pd\n",
        "import seaborn as sns\n",
        "import matplotlib.pyplot as plt\n",
        "import numpy as np\n",
        "\n",
        "from sklearn.preprocessing import StandardScaler\n",
        "from sklearn.model_selection import train_test_split\n",
        "from sklearn.metrics import accuracy_score\n",
        "from sklearn.metrics import classification_report\n",
        "from sklearn import metrics"
      ]
    },
    {
      "cell_type": "code",
      "execution_count": null,
      "metadata": {
        "colab": {
          "base_uri": "https://localhost:8080/",
          "height": 253
        },
        "id": "5trwC-5EKCbk",
        "outputId": "ec25f560-bda1-4124-d51e-8510cfb47180"
      },
      "outputs": [],
      "source": [
        "from sklearn.datasets import load_breast_cancer\n",
        "data = load_breast_cancer(as_frame=True)\n",
        "df_cancer = data.frame\n",
        "df_cancer.head(5)"
      ]
    },
    {
      "cell_type": "markdown",
      "metadata": {},
      "source": [
        "# Analisis del Dataset"
      ]
    },
    {
      "cell_type": "code",
      "execution_count": null,
      "metadata": {},
      "outputs": [],
      "source": [
        "correlation = df_cancer.corr()\n",
        "threshold = 0.75\n",
        "filter = np.abs(correlation[\"target\"]) > threshold\n",
        "correlation_features = correlation.columns[filter].tolist()\n",
        "sns.pairplot(df_cancer[correlation_features], diag_kind = \"kde\",  hue=\"target\")\n",
        "plt.show()"
      ]
    },
    {
      "cell_type": "markdown",
      "metadata": {
        "id": "RmZa5mOdPpku"
      },
      "source": [
        "# Preprocesamiento de datos"
      ]
    },
    {
      "cell_type": "code",
      "execution_count": null,
      "metadata": {
        "id": "LRslmp8KeiTO"
      },
      "outputs": [],
      "source": [
        "def preparacion_de_datos(df_input, target, escalar_valores=False):\n",
        "  df = df_input \n",
        "  if escalar_valores: \n",
        "    scaler_X = StandardScaler(with_mean=True, with_std=True)\n",
        "    scaler_X.fit(df.drop(target,axis=1))\n",
        "    x = pd.DataFrame(scaler_X.transform(df.drop(target,axis=1),), columns = df.drop(target,axis=1).columns )\n",
        "  else:\n",
        "    x = df.drop(target,axis=1)\n",
        "  y = df[target]\n",
        "  return x,y"
      ]
    },
    {
      "cell_type": "code",
      "execution_count": null,
      "metadata": {
        "id": "y-3JuRcMegvG"
      },
      "outputs": [],
      "source": [
        "X_cancer, y_cancer = preparacion_de_datos( df_cancer, \"target\" ,escalar_valores=False)"
      ]
    },
    {
      "cell_type": "code",
      "execution_count": null,
      "metadata": {
        "id": "drNcxQmpQhsE"
      },
      "outputs": [],
      "source": [
        "# Hacemos el Split 70-30 para train-test\n",
        "X_train, X_test, y_train, y_test = train_test_split(X_cancer, y_cancer,\n",
        "                                                    test_size=0.3, stratify = y_cancer, random_state=0)"
      ]
    },
    {
      "cell_type": "markdown",
      "metadata": {
        "id": "im1OPXM9dvth"
      },
      "source": [
        "# Entrenamos los modelos"
      ]
    },
    {
      "cell_type": "code",
      "execution_count": null,
      "metadata": {
        "colab": {
          "base_uri": "https://localhost:8080/"
        },
        "id": "-pfMpiQFekUB",
        "outputId": "7eef08b4-92e4-446f-f50c-b53e26f0e45a"
      },
      "outputs": [],
      "source": [
        "from sklearn.linear_model import LogisticRegression\n",
        "from sklearn.naive_bayes import MultinomialNB\n",
        "from sklearn.naive_bayes import GaussianNB\n",
        "from sklearn.tree import DecisionTreeClassifier\n",
        "from sklearn.neighbors import KNeighborsClassifier\n",
        "\n",
        "logreg = LogisticRegression( max_iter=3000 )\n",
        "logreg.fit(X_train, y_train)\n",
        "y_pred_lg = logreg.predict(X_test)\n",
        "\n",
        "treeclf = DecisionTreeClassifier(max_depth=10, random_state=1)\n",
        "treeclf.fit(X_train, y_train)\n",
        "y_pred_tc = treeclf.predict(X_test)\n",
        "\n",
        "bayes_multi = MultinomialNB()\n",
        "bayes_multi.fit(X_train, y_train)\n",
        "y_pred_nb = bayes_multi.predict(X_test)\n",
        "\n",
        "bayes_gauss = GaussianNB()\n",
        "bayes_gauss.fit(X_train, y_train)\n",
        "y_pred_gauss = bayes_gauss.predict(X_test)\n",
        "\n",
        "knn = DecisionTreeClassifier(max_depth=10, random_state=1)\n",
        "knn.fit(X_train, y_train)\n",
        "y_pred_knn = knn.predict(X_test)\n",
        "\n",
        "# y con el dataset escalado\n",
        "X_cancer, y_cancer = preparacion_de_datos(df_cancer, \"target\", escalar_valores=True)\n",
        "X_train, X_test, y_train, y_test = train_test_split(X_cancer, y_cancer,\n",
        "                                                    test_size=0.3, stratify = y_cancer, random_state=0)\n",
        "logreg_s = LogisticRegression(max_iter=1000)\n",
        "logreg_s.fit(X_train, y_train)\n",
        "y_pred_lg_s = logreg_s.predict(X_test)\n",
        "\n",
        "bayes_gauss_s = GaussianNB()\n",
        "bayes_gauss_s.fit(X_train, y_train)\n",
        "y_pred_gauss_s = bayes_gauss_s.predict(X_test)\n",
        "\n",
        "knn_s = DecisionTreeClassifier(max_depth=10, random_state=1)\n",
        "knn_s.fit(X_train, y_train)\n",
        "y_pred_knn_s = knn_s.predict(X_test)"
      ]
    },
    {
      "cell_type": "markdown",
      "metadata": {},
      "source": [
        "# Comparamos por Curva ROC"
      ]
    },
    {
      "cell_type": "code",
      "execution_count": null,
      "metadata": {
        "id": "HfEHS0Ww1mur"
      },
      "outputs": [],
      "source": [
        "def graficarCurvaRoc( y_pred, model ):\n",
        "  fpr, tpr, _ = metrics.roc_curve(y_test,  y_pred)\n",
        "  auc = metrics.roc_auc_score(y_test, y_pred)\n",
        "  # Graficamos\n",
        "  plt.plot(fpr,tpr,label= model +\" AUC=\"+str(round(auc,4))) #,label= \"AUC=\"+str(auc))\n",
        "  plt.legend(loc=4, fontsize=12)\n",
        "  return auc"
      ]
    },
    {
      "cell_type": "code",
      "execution_count": null,
      "metadata": {
        "colab": {
          "base_uri": "https://localhost:8080/",
          "height": 882
        },
        "id": "4sLwZVvvdtOu",
        "outputId": "99ac3a10-c264-40cf-fd0d-6def33643fd0"
      },
      "outputs": [],
      "source": [
        "# Inicializamos los labels del gráfico\n",
        "plt.figure(figsize=(20, 10))\n",
        "plt.xlabel('% 1 – Specificity (falsos positivos)', fontsize=14)\n",
        "plt.ylabel('% Sensitivity (positivos)', fontsize=14)\n",
        "\n",
        "# Graficamos la recta del azar\n",
        "it = [i/100 for i in range(100)]\n",
        "plt.plot(it,it,label=\"AZAR AUC=0.5\",color=\"black\")\n",
        "\n",
        "modelos = {'bayesMulti':y_pred_nb, 'bayesGauss':y_pred_gauss,'arbol':y_pred_tc,\n",
        "           'reglog':y_pred_lg,'knn':y_pred_knn, 'bayesGauss_s':y_pred_gauss_s,\n",
        "           'reglog_s':y_pred_lg_s,'knn_s':y_pred_knn_s,\n",
        "           }\n",
        "areas = []\n",
        "for pred in modelos:\n",
        "    auc = graficarCurvaRoc( modelos[pred] , pred )\n",
        "    areas.append( (pred, auc) )\n",
        "areas = pd.DataFrame(areas, columns=['model','auc'])\n",
        "# Agregamos el titulo y configuro el tamaño de letra\n",
        "plt.title(\"Curva ROC\", fontsize=14)\n",
        "plt.tick_params(labelsize=12);\n",
        "plt.show()"
      ]
    },
    {
      "cell_type": "code",
      "execution_count": null,
      "metadata": {
        "colab": {
          "base_uri": "https://localhost:8080/",
          "height": 300
        },
        "id": "x9tHFmmS4nd2",
        "outputId": "fc586f8e-f932-415f-c143-1ae77747075c"
      },
      "outputs": [],
      "source": [
        "areas.sort_values('auc', ascending=False)"
      ]
    },
    {
      "cell_type": "markdown",
      "metadata": {
        "id": "6rGxzQrwf9Qd"
      },
      "source": [
        "# Mejoramos el modelo elegido con GridSearch"
      ]
    },
    {
      "cell_type": "code",
      "execution_count": null,
      "metadata": {
        "id": "nLDPcZqZgtcP"
      },
      "outputs": [],
      "source": [
        "from sklearn.model_selection import GridSearchCV\n",
        "\n",
        "parameters =  {\"C\":np.logspace(-3,3,13), \"penalty\":[\"l1\",\"l2\"], \"max_iter\":[100,500,3000]}\n",
        "clf = GridSearchCV( LogisticRegression() , parameters, scoring='roc_auc',cv=5) #CV agrega cross validation de 5 capas\n",
        "clf.fit(X_train, y_train)"
      ]
    },
    {
      "cell_type": "code",
      "execution_count": null,
      "metadata": {},
      "outputs": [],
      "source": [
        "# Print best parameters and best score\n",
        "print(\"Best Parameters:\", clf.best_params_)\n",
        "print(\"Best Score:\", clf.best_score_)"
      ]
    },
    {
      "cell_type": "markdown",
      "metadata": {},
      "source": [
        "# Ejercicio\n",
        "### Analisis\n",
        "- Averiguar distribución de la variable target.\n",
        "- Averiguar cuales de las variables son numéricas.\n",
        "- Graficar Heatmap de la correlacion entre variables numericas y el target.\n",
        "### Evaluacion de Modelos\n",
        "- Incluir el modelo obtenido por gridsearch en el gráfico de la curva ROC\n",
        "- Comparar Accuracy de los modelos RegLog, Arbol y Naive Bayes (Gaussiano)"
      ]
    }
  ],
  "metadata": {
    "colab": {
      "provenance": []
    },
    "kernelspec": {
      "display_name": "Python 3",
      "name": "python3"
    },
    "language_info": {
      "codemirror_mode": {
        "name": "ipython",
        "version": 3
      },
      "file_extension": ".py",
      "mimetype": "text/x-python",
      "name": "python",
      "nbconvert_exporter": "python",
      "pygments_lexer": "ipython3",
      "version": "3.9.13"
    }
  },
  "nbformat": 4,
  "nbformat_minor": 0
}
