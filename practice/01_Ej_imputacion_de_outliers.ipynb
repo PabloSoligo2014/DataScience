{
 "cells": [
  {
   "cell_type": "markdown",
   "metadata": {},
   "source": [
    "# Ejercicio Binning, imputacion, outliers, dummies etc\n",
    "El siguiente Dataset contiene detalles de 1000 potenciales compradores de bicicletas, realizaremos un análisis exploratorio del mismo, imputando las variables que correspondan.\n",
    "\n",
    "1. ¿Cuáles de las variables contienen valores nulos?\n",
    "2. ¿Está Balanceada la variable target 'Purchased Bike'?\n",
    "3. Imputar los valores nulos de Gender con el valor 'X'.\n",
    "4. Imputar los valores nulos y outliers de Age con la media.\n",
    "5. Eliminar los registros con valor nulo en Cars.\n",
    "6. Generar columnas dummy para las variables Education y Occupation.\n",
    "7. Definir una estrategia de imputación para las otras variables que corresponda.\n",
    "8. Finalizar el análisis exploratorio con gráficos del dataset."
   ]
  },
  {
   "cell_type": "code",
   "execution_count": 4,
   "metadata": {},
   "outputs": [],
   "source": [
    "import pandas as pd\n",
    "bike_buyers = pd.read_csv('https://raw.githubusercontent.com/pokengineer/DataScience/main/datasets/bike_buyers.csv')"
   ]
  },
  {
   "cell_type": "code",
   "execution_count": 3,
   "metadata": {},
   "outputs": [],
   "source": [
    "#bike_buyers.describe(include='all')"
   ]
  }
 ],
 "metadata": {
  "kernelspec": {
   "display_name": "Python 3",
   "language": "python",
   "name": "python3"
  },
  "language_info": {
   "codemirror_mode": {
    "name": "ipython",
    "version": 3
   },
   "file_extension": ".py",
   "mimetype": "text/x-python",
   "name": "python",
   "nbconvert_exporter": "python",
   "pygments_lexer": "ipython3",
   "version": "3.9.1"
  }
 },
 "nbformat": 4,
 "nbformat_minor": 4
}
