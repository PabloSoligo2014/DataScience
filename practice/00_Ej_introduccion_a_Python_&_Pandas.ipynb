{
  "cells": [
    {
      "cell_type": "markdown",
      "metadata": {
        "id": "sT-1-3gEAUKP"
      },
      "source": [
        "### **Ejercicio Integrador 1**\n",
        "\n",
        "Una vez que el sistema de recaudaciones del nuevo canal de cobranzas está en producción se recibieron las siguientes transacciones correspondientes a pagos en pesos: 100, 300, 400, 500, 6000, 8000, 2012, 1231, 23, 20, 100, 100, 4000, 300, 500, 500, 600, 200, 200, 8000.\n",
        "\n",
        "1. Genere una variable con la cantidad de pago recibidos denominada “cant_pagos”.\n",
        "2. Genere un vector con los valores únicos de los pagos realizados.\n",
        "3. Ordene de menor a mayor los pagos.\n",
        "4. ¿Cuál es el mínimo valor que se cobró y cual es el máximo valor que se cobró?\n",
        "5. Genere un nuevo vector denominado \"comision\" con las comisiones de las cobranzas que se deben abonar al recaudador, recuerde que se cobra el 1.2%.\n",
        "6. Realice otro vector denominado \"comision_pagada\" teniendo en cuenta que si la comisión no supera los 8 pesos el valor mínimo de cobranzas es de 8 pesos.\n",
        "7. Cuántas operaciones se pagaron 8 pesos por no superar ese tope?\n",
        "8. ¿Cuánto pagué de comisiones y cuanto deberia haber pagado sin no estuviera el tope?"
      ]
    },
    {
      "cell_type": "code",
      "execution_count": null,
      "metadata": {},
      "outputs": [],
      "source": []
    },
    {
      "cell_type": "markdown",
      "metadata": {
        "id": "hgEoiUxwAnLE"
      },
      "source": [
        "---\n",
        "### **Ejercicio Integrador 2**\n",
        "Generar la función denominada calculoIMC que tenga como parámetros peso y altura. Tener en cuenta:\n",
        "\n",
        "*   Convertir la altura de pulgadas a metros (indice 0.0254)\n",
        "*   Convertir el peso de libras a kg (índice 0.453592)\n",
        "*   La función es peso dividido la altura al cuadrado.\n",
        "\n",
        "Verificar que la función para el siguiente caso:\n",
        "\n",
        "*   peso: 112.9925\n",
        "*   altura: 65.78331\n",
        "\n",
        "Armar una función **lambda** equivalente a la función calculoIMC."
      ]
    },
    {
      "cell_type": "code",
      "execution_count": null,
      "metadata": {
        "id": "b9e7v9YjAn3t"
      },
      "outputs": [],
      "source": []
    }
  ],
  "metadata": {
    "colab": {
      "provenance": []
    },
    "kernelspec": {
      "display_name": "Python 3",
      "name": "python3"
    },
    "language_info": {
      "codemirror_mode": {
        "name": "ipython",
        "version": 3
      },
      "file_extension": ".py",
      "mimetype": "text/x-python",
      "name": "python",
      "nbconvert_exporter": "python",
      "pygments_lexer": "ipython3",
      "version": "3.12.3"
    }
  },
  "nbformat": 4,
  "nbformat_minor": 0
}
